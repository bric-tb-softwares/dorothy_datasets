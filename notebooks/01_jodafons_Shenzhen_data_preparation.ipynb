{
 "cells": [
  {
   "cell_type": "markdown",
   "id": "df1b6119-0538-48f4-8666-c2c530283000",
   "metadata": {},
   "source": [
    "# 01: Shenzhen Download\n",
    "\n",
    "From: jodafons \n",
    "\n",
    "This notebook will be responsible to create a final spreadsheet with all images paths, hashes and clinical readings."
   ]
  },
  {
   "cell_type": "code",
   "execution_count": 6,
   "id": "0c861eb4-ec87-48eb-b5c0-6c0b057b7d67",
   "metadata": {},
   "outputs": [],
   "source": [
    "from dorothy_datasets import download_china_from_server\n",
    "import os\n",
    "import pandas as pd\n",
    "token = os.environ['DOROTHY_TOKEN']"
   ]
  },
  {
   "cell_type": "code",
   "execution_count": 2,
   "id": "81694da5-bf5a-4d98-b73b-98361233082e",
   "metadata": {},
   "outputs": [],
   "source": [
    "basepath = '/home/jodafons/public/brics_data/china/dataset'"
   ]
  },
  {
   "cell_type": "code",
   "execution_count": 3,
   "id": "8686b59c-3c89-4d9f-9578-759a937f6a76",
   "metadata": {},
   "outputs": [
    {
     "name": "stdout",
     "output_type": "stream",
     "text": [
      "Downloading china dataset...\n"
     ]
    },
    {
     "name": "stderr",
     "output_type": "stream",
     "text": [
      "Downloading images...: 100%|██████████████████████████████████████| 662/662 [00:08<00:00, 77.77it/s]\n"
     ]
    },
    {
     "name": "stdout",
     "output_type": "stream",
     "text": [
      "Splitting...\n",
      "f5a59dc9d39413df57d9119f5619a86d\n",
      "Download completed! all indexs into /home/jodafons/public/brics_data/china/dataset/dataset_Shenzhen_splitted.csv\n"
     ]
    }
   ],
   "source": [
    "download_china_from_server(token , basepath=basepath)"
   ]
  },
  {
   "cell_type": "code",
   "execution_count": 11,
   "id": "c49f76ec-819f-48c8-8429-f5ae12b36f32",
   "metadata": {},
   "outputs": [],
   "source": [
    "df = pd.read_csv('/home/jodafons/public/brics_data/china/dataset/dataset_Shenzhen_splitted.csv',index_col=0)"
   ]
  },
  {
   "cell_type": "code",
   "execution_count": 12,
   "id": "b1c9e15a-14c8-4c91-860a-2259df9168d1",
   "metadata": {},
   "outputs": [
    {
     "data": {
      "text/html": [
       "<div>\n",
       "<style scoped>\n",
       "    .dataframe tbody tr th:only-of-type {\n",
       "        vertical-align: middle;\n",
       "    }\n",
       "\n",
       "    .dataframe tbody tr th {\n",
       "        vertical-align: top;\n",
       "    }\n",
       "\n",
       "    .dataframe thead th {\n",
       "        text-align: right;\n",
       "    }\n",
       "</style>\n",
       "<table border=\"1\" class=\"dataframe\">\n",
       "  <thead>\n",
       "    <tr style=\"text-align: right;\">\n",
       "      <th></th>\n",
       "      <th>dataset_name</th>\n",
       "      <th>project_id</th>\n",
       "      <th>target</th>\n",
       "      <th>image_md5</th>\n",
       "      <th>image_url</th>\n",
       "      <th>image_path</th>\n",
       "      <th>insertion_date</th>\n",
       "      <th>metadata</th>\n",
       "      <th>date_acquisition</th>\n",
       "      <th>number_reports</th>\n",
       "      <th>test</th>\n",
       "      <th>sort</th>\n",
       "      <th>type</th>\n",
       "      <th>dataset_type</th>\n",
       "    </tr>\n",
       "  </thead>\n",
       "  <tbody>\n",
       "    <tr>\n",
       "      <th>0</th>\n",
       "      <td>china</td>\n",
       "      <td>china_CHNCXR_0001_0_E464A8</td>\n",
       "      <td>False</td>\n",
       "      <td>313e3db7e5f03c88d08a4485c364f370</td>\n",
       "      <td>https://dorothy-image.lps.ufrj.br/image/china_...</td>\n",
       "      <td>/home/jodafons/public/brics_data/china/dataset...</td>\n",
       "      <td>2021-08-17</td>\n",
       "      <td>{'gender': 'male', 'age': 45, 'has_tb': False,...</td>\n",
       "      <td>2021-08-17</td>\n",
       "      <td>0</td>\n",
       "      <td>0</td>\n",
       "      <td>0</td>\n",
       "      <td>train</td>\n",
       "      <td>real</td>\n",
       "    </tr>\n",
       "    <tr>\n",
       "      <th>1</th>\n",
       "      <td>china</td>\n",
       "      <td>china_CHNCXR_0002_0_961172</td>\n",
       "      <td>False</td>\n",
       "      <td>3d5fcc07713143d414802fcc9cb86b2e</td>\n",
       "      <td>https://dorothy-image.lps.ufrj.br/image/china_...</td>\n",
       "      <td>/home/jodafons/public/brics_data/china/dataset...</td>\n",
       "      <td>2021-08-17</td>\n",
       "      <td>{'gender': 'male', 'age': 63, 'has_tb': False,...</td>\n",
       "      <td>2021-08-17</td>\n",
       "      <td>0</td>\n",
       "      <td>0</td>\n",
       "      <td>0</td>\n",
       "      <td>train</td>\n",
       "      <td>real</td>\n",
       "    </tr>\n",
       "    <tr>\n",
       "      <th>2</th>\n",
       "      <td>china</td>\n",
       "      <td>china_CHNCXR_0003_0_BA565D</td>\n",
       "      <td>False</td>\n",
       "      <td>404cfbaf320875f617a810b7c075a813</td>\n",
       "      <td>https://dorothy-image.lps.ufrj.br/image/china_...</td>\n",
       "      <td>/home/jodafons/public/brics_data/china/dataset...</td>\n",
       "      <td>2021-08-17</td>\n",
       "      <td>{'gender': 'female', 'age': 48, 'has_tb': Fals...</td>\n",
       "      <td>2021-08-17</td>\n",
       "      <td>0</td>\n",
       "      <td>0</td>\n",
       "      <td>0</td>\n",
       "      <td>train</td>\n",
       "      <td>real</td>\n",
       "    </tr>\n",
       "    <tr>\n",
       "      <th>3</th>\n",
       "      <td>china</td>\n",
       "      <td>china_CHNCXR_0004_0_96C984</td>\n",
       "      <td>False</td>\n",
       "      <td>0e7d2065cbbc08ca13fc2e8881e01096</td>\n",
       "      <td>https://dorothy-image.lps.ufrj.br/image/china_...</td>\n",
       "      <td>/home/jodafons/public/brics_data/china/dataset...</td>\n",
       "      <td>2021-08-17</td>\n",
       "      <td>{'gender': 'male', 'age': 58, 'has_tb': False,...</td>\n",
       "      <td>2021-08-17</td>\n",
       "      <td>0</td>\n",
       "      <td>0</td>\n",
       "      <td>0</td>\n",
       "      <td>train</td>\n",
       "      <td>real</td>\n",
       "    </tr>\n",
       "    <tr>\n",
       "      <th>4</th>\n",
       "      <td>china</td>\n",
       "      <td>china_CHNCXR_0005_0_B6ECEF</td>\n",
       "      <td>False</td>\n",
       "      <td>d4acb116ed926f64a805447a65132e93</td>\n",
       "      <td>https://dorothy-image.lps.ufrj.br/image/china_...</td>\n",
       "      <td>/home/jodafons/public/brics_data/china/dataset...</td>\n",
       "      <td>2021-08-17</td>\n",
       "      <td>{'gender': 'male', 'age': 28, 'has_tb': False,...</td>\n",
       "      <td>2021-08-17</td>\n",
       "      <td>0</td>\n",
       "      <td>0</td>\n",
       "      <td>0</td>\n",
       "      <td>train</td>\n",
       "      <td>real</td>\n",
       "    </tr>\n",
       "  </tbody>\n",
       "</table>\n",
       "</div>"
      ],
      "text/plain": [
       "  dataset_name                  project_id  target  \\\n",
       "0        china  china_CHNCXR_0001_0_E464A8   False   \n",
       "1        china  china_CHNCXR_0002_0_961172   False   \n",
       "2        china  china_CHNCXR_0003_0_BA565D   False   \n",
       "3        china  china_CHNCXR_0004_0_96C984   False   \n",
       "4        china  china_CHNCXR_0005_0_B6ECEF   False   \n",
       "\n",
       "                          image_md5  \\\n",
       "0  313e3db7e5f03c88d08a4485c364f370   \n",
       "1  3d5fcc07713143d414802fcc9cb86b2e   \n",
       "2  404cfbaf320875f617a810b7c075a813   \n",
       "3  0e7d2065cbbc08ca13fc2e8881e01096   \n",
       "4  d4acb116ed926f64a805447a65132e93   \n",
       "\n",
       "                                           image_url  \\\n",
       "0  https://dorothy-image.lps.ufrj.br/image/china_...   \n",
       "1  https://dorothy-image.lps.ufrj.br/image/china_...   \n",
       "2  https://dorothy-image.lps.ufrj.br/image/china_...   \n",
       "3  https://dorothy-image.lps.ufrj.br/image/china_...   \n",
       "4  https://dorothy-image.lps.ufrj.br/image/china_...   \n",
       "\n",
       "                                          image_path insertion_date  \\\n",
       "0  /home/jodafons/public/brics_data/china/dataset...     2021-08-17   \n",
       "1  /home/jodafons/public/brics_data/china/dataset...     2021-08-17   \n",
       "2  /home/jodafons/public/brics_data/china/dataset...     2021-08-17   \n",
       "3  /home/jodafons/public/brics_data/china/dataset...     2021-08-17   \n",
       "4  /home/jodafons/public/brics_data/china/dataset...     2021-08-17   \n",
       "\n",
       "                                            metadata date_acquisition  \\\n",
       "0  {'gender': 'male', 'age': 45, 'has_tb': False,...       2021-08-17   \n",
       "1  {'gender': 'male', 'age': 63, 'has_tb': False,...       2021-08-17   \n",
       "2  {'gender': 'female', 'age': 48, 'has_tb': Fals...       2021-08-17   \n",
       "3  {'gender': 'male', 'age': 58, 'has_tb': False,...       2021-08-17   \n",
       "4  {'gender': 'male', 'age': 28, 'has_tb': False,...       2021-08-17   \n",
       "\n",
       "   number_reports  test  sort   type dataset_type  \n",
       "0               0     0     0  train         real  \n",
       "1               0     0     0  train         real  \n",
       "2               0     0     0  train         real  \n",
       "3               0     0     0  train         real  \n",
       "4               0     0     0  train         real  "
      ]
     },
     "execution_count": 12,
     "metadata": {},
     "output_type": "execute_result"
    }
   ],
   "source": [
    "df.head()"
   ]
  },
  {
   "cell_type": "code",
   "execution_count": 13,
   "id": "a3c7a839-ee4f-46c0-afea-d4e5c87428a4",
   "metadata": {},
   "outputs": [
    {
     "data": {
      "text/plain": [
       "\"{'gender': 'male', 'age': 45, 'has_tb': False, 'original_report': 'normal', 'date_exam': None, 'synthetic': False, 'additional_information': None}\""
      ]
     },
     "execution_count": 13,
     "metadata": {},
     "output_type": "execute_result"
    }
   ],
   "source": [
    "df.metadata[0]"
   ]
  },
  {
   "cell_type": "code",
   "execution_count": null,
   "id": "3af0aeab-f893-44ca-816c-a6117b882718",
   "metadata": {},
   "outputs": [],
   "source": []
  }
 ],
 "metadata": {
  "kernelspec": {
   "display_name": "Python 3",
   "language": "python",
   "name": "python3"
  },
  "language_info": {
   "codemirror_mode": {
    "name": "ipython",
    "version": 3
   },
   "file_extension": ".py",
   "mimetype": "text/x-python",
   "name": "python",
   "nbconvert_exporter": "python",
   "pygments_lexer": "ipython3",
   "version": "3.6.9"
  }
 },
 "nbformat": 4,
 "nbformat_minor": 5
}
